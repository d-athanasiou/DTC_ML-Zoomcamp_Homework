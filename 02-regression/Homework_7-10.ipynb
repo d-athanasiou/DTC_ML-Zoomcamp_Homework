{
 "cells": [
  {
   "cell_type": "code",
   "execution_count": 1,
   "id": "d9e3a851-6e6a-4e8f-930f-eafc2f8f1698",
   "metadata": {},
   "outputs": [],
   "source": [
    "import pandas as pd\n",
    "import numpy as np"
   ]
  },
  {
   "cell_type": "code",
   "execution_count": 2,
   "id": "98561a39-9b08-4f75-b792-e34e2e192bcd",
   "metadata": {},
   "outputs": [
    {
     "data": {
      "text/html": [
       "<div>\n",
       "<style scoped>\n",
       "    .dataframe tbody tr th:only-of-type {\n",
       "        vertical-align: middle;\n",
       "    }\n",
       "\n",
       "    .dataframe tbody tr th {\n",
       "        vertical-align: top;\n",
       "    }\n",
       "\n",
       "    .dataframe thead th {\n",
       "        text-align: right;\n",
       "    }\n",
       "</style>\n",
       "<table border=\"1\" class=\"dataframe\">\n",
       "  <thead>\n",
       "    <tr style=\"text-align: right;\">\n",
       "      <th></th>\n",
       "      <th>engine_displacement</th>\n",
       "      <th>horsepower</th>\n",
       "      <th>vehicle_weight</th>\n",
       "      <th>model_year</th>\n",
       "      <th>fuel_efficiency_mpg</th>\n",
       "    </tr>\n",
       "  </thead>\n",
       "  <tbody>\n",
       "    <tr>\n",
       "      <th>0</th>\n",
       "      <td>170</td>\n",
       "      <td>159.0</td>\n",
       "      <td>3413.433759</td>\n",
       "      <td>2003</td>\n",
       "      <td>13.231729</td>\n",
       "    </tr>\n",
       "    <tr>\n",
       "      <th>1</th>\n",
       "      <td>130</td>\n",
       "      <td>97.0</td>\n",
       "      <td>3149.664934</td>\n",
       "      <td>2007</td>\n",
       "      <td>13.688217</td>\n",
       "    </tr>\n",
       "    <tr>\n",
       "      <th>2</th>\n",
       "      <td>170</td>\n",
       "      <td>78.0</td>\n",
       "      <td>3079.038997</td>\n",
       "      <td>2018</td>\n",
       "      <td>14.246341</td>\n",
       "    </tr>\n",
       "    <tr>\n",
       "      <th>3</th>\n",
       "      <td>220</td>\n",
       "      <td>NaN</td>\n",
       "      <td>2542.392402</td>\n",
       "      <td>2009</td>\n",
       "      <td>16.912736</td>\n",
       "    </tr>\n",
       "    <tr>\n",
       "      <th>4</th>\n",
       "      <td>210</td>\n",
       "      <td>140.0</td>\n",
       "      <td>3460.870990</td>\n",
       "      <td>2009</td>\n",
       "      <td>12.488369</td>\n",
       "    </tr>\n",
       "  </tbody>\n",
       "</table>\n",
       "</div>"
      ],
      "text/plain": [
       "   engine_displacement  horsepower  vehicle_weight  model_year  \\\n",
       "0                  170       159.0     3413.433759        2003   \n",
       "1                  130        97.0     3149.664934        2007   \n",
       "2                  170        78.0     3079.038997        2018   \n",
       "3                  220         NaN     2542.392402        2009   \n",
       "4                  210       140.0     3460.870990        2009   \n",
       "\n",
       "   fuel_efficiency_mpg  \n",
       "0            13.231729  \n",
       "1            13.688217  \n",
       "2            14.246341  \n",
       "3            16.912736  \n",
       "4            12.488369  "
      ]
     },
     "execution_count": 2,
     "metadata": {},
     "output_type": "execute_result"
    }
   ],
   "source": [
    "df = pd.read_csv('https://raw.githubusercontent.com/alexeygrigorev/datasets/master/car_fuel_efficiency.csv')\n",
    "df = df[['engine_displacement',\n",
    "'horsepower',\n",
    "'vehicle_weight',\n",
    "'model_year',\n",
    "'fuel_efficiency_mpg']]\n",
    "df.head()"
   ]
  },
  {
   "cell_type": "code",
   "execution_count": 3,
   "id": "282d4ec6-a4a7-430c-a983-5c9cb9785e25",
   "metadata": {},
   "outputs": [
    {
     "name": "stdout",
     "output_type": "stream",
     "text": [
      "Column: horsepower has 708 Nan values!\n"
     ]
    }
   ],
   "source": [
    "for col in df.columns.to_list():\n",
    "    a = df[col].isnull().sum()\n",
    "    if a:\n",
    "        print(f'Column: {col} has {df[col].isnull().sum()} Nan values!')"
   ]
  },
  {
   "cell_type": "code",
   "execution_count": 4,
   "id": "d5d38489-76a3-4589-96d7-3723c992a182",
   "metadata": {},
   "outputs": [
    {
     "data": {
      "text/plain": [
       "np.float64(149.0)"
      ]
     },
     "execution_count": 4,
     "metadata": {},
     "output_type": "execute_result"
    }
   ],
   "source": [
    "df['horsepower'].median()"
   ]
  },
  {
   "cell_type": "code",
   "execution_count": 5,
   "id": "1145bc6b-58af-408e-9fa1-eb0c9e179382",
   "metadata": {},
   "outputs": [],
   "source": [
    "def split_seed(s):\n",
    "    np.random.seed(s)\n",
    "    n = len(df)\n",
    "    \n",
    "    n_val = int(0.2 * n)\n",
    "    n_test = int(0.2 * n)\n",
    "    n_train = n - (n_val + n_test)\n",
    "    \n",
    "    idx = np.arange(n)\n",
    "    np.random.shuffle(idx)\n",
    "    \n",
    "    df_shuffled = df.iloc[idx]\n",
    "    \n",
    "    df_train = df_shuffled.iloc[:n_train].copy()\n",
    "    df_val = df_shuffled.iloc[n_train:n_train+n_val].copy()\n",
    "    df_test = df_shuffled.iloc[n_train+n_val:].copy()\n",
    "    return df_train, df_val\n",
    "\n",
    "df_train, df_val = split_seed(42)\n"
   ]
  },
  {
   "cell_type": "code",
   "execution_count": 6,
   "id": "5ad3fd0f-bd88-4702-aa23-c41324cb84bb",
   "metadata": {},
   "outputs": [
    {
     "name": "stdout",
     "output_type": "stream",
     "text": [
      "Filling with \"0\" yields score: 0.52, while filling with mean yields score: 0.46 !!!\n"
     ]
    }
   ],
   "source": [
    "base = ['engine_displacement',\n",
    "'horsepower',\n",
    "'vehicle_weight',\n",
    "'model_year']\n",
    "\n",
    "def train_linear_regression(X, y):\n",
    "    ones = np.ones(X.shape[0])\n",
    "    X = np.column_stack([ones, X])\n",
    "    XTX = X.T.dot(X)\n",
    "    XTX_inv = np.linalg.inv(XTX)\n",
    "    w = XTX_inv.dot(X.T).dot(y)\n",
    "    if np.isnan(w).any():\n",
    "        print(\"NaN detected in weights!\")\n",
    "\n",
    "    return w[0], w[1:]\n",
    "\n",
    "\n",
    "def filled_hp(dfr, use_mean):\n",
    "    df_new = dfr.copy()\n",
    "    if use_mean:\n",
    "        fill_value = df_new['horsepower'].mean()\n",
    "    else:\n",
    "        fill_value = 0\n",
    "    df_new['horsepower'] = df_new['horsepower'].fillna(fill_value)\n",
    "    return df_new\n",
    "\n",
    "def rmse(y, y_pred):\n",
    "    error = y_pred - y\n",
    "    mse = (error ** 2).mean()\n",
    "    return np.sqrt(mse)\n",
    "\n",
    "y_train = df_train.fuel_efficiency_mpg.values\n",
    "y_val = df_val.fuel_efficiency_mpg.values\n",
    "\n",
    "def label_pred(df_train, df_val, fill):\n",
    "    X_train = filled_hp(df_train[base], fill)\n",
    "    X_val = filled_hp(df_val[base], fill)\n",
    "    w0, w = train_linear_regression(X_train, y_train)\n",
    "    return w0 + X_val.dot(w)\n",
    "\n",
    "# Fill with 0\n",
    "y_pred_0 = label_pred(df_train, df_val, 0)\n",
    "\n",
    "# Fill with mean\n",
    "y_pred_1 = label_pred(df_train, df_val, 1)\n",
    "\n",
    "# Compare RMSE\n",
    "print(f'Filling with \"0\" yields score: {round(rmse(y_val, y_pred_0), 2)}, while filling with mean yields score: {round(rmse(y_val, y_pred_1), 2)} !!!')\n"
   ]
  },
  {
   "cell_type": "code",
   "execution_count": 7,
   "id": "620b0251-d4d3-4868-a93b-c10a6b5cc1cd",
   "metadata": {},
   "outputs": [
    {
     "name": "stdout",
     "output_type": "stream",
     "text": [
      "For r-value: 0, we get RMSE: 0.51738, rounded to 0.52!\n",
      "For r-value: 0.01, we get RMSE: 0.51711, rounded to 0.52!\n",
      "For r-value: 0.1, we get RMSE: 0.51875, rounded to 0.52!\n",
      "For r-value: 1, we get RMSE: 0.52223, rounded to 0.52!\n",
      "For r-value: 5, we get RMSE: 0.52289, rounded to 0.52!\n",
      "For r-value: 10, we get RMSE: 0.52298, rounded to 0.52!\n",
      "For r-value: 100, we get RMSE: 0.52306, rounded to 0.52!\n"
     ]
    }
   ],
   "source": [
    "def train_linear_regression_reg(X, y, r=0.0):\n",
    "    ones = np.ones(X.shape[0])\n",
    "    X = np.column_stack([ones, X])\n",
    "\n",
    "    XTX = X.T.dot(X)\n",
    "    reg = r * np.eye(XTX.shape[0])\n",
    "    XTX = XTX + reg\n",
    "\n",
    "    XTX_inv = np.linalg.inv(XTX)\n",
    "    w = XTX_inv.dot(X.T).dot(y)\n",
    "    \n",
    "    return w[0], w[1:]\n",
    "\n",
    "X_train_0 = filled_hp(df_train[base], 0)\n",
    "X_val_0 = filled_hp(df_val[base], 0)\n",
    "\n",
    "for r in [0, 0.01, 0.1, 1, 5, 10, 100]:\n",
    "    w0, w = train_linear_regression_reg(X_train_0.values, y_train, r)\n",
    "    y_p = w0 + X_val_0.values.dot(w)\n",
    "\n",
    "    print(f\"For r-value: {r}, we get RMSE: {round(rmse(y_val, y_p), 5)}, rounded to {round(rmse(y_val, y_p), 2)}!\")  "
   ]
  },
  {
   "cell_type": "code",
   "execution_count": 8,
   "id": "eb1f4f05-9993-4cc1-8e1d-6bd11e801272",
   "metadata": {},
   "outputs": [
    {
     "name": "stdout",
     "output_type": "stream",
     "text": [
      "Standard deviation of RMSE: 0.007\n"
     ]
    }
   ],
   "source": [
    "seeds = [0, 1, 2, 3, 4, 5, 6, 7, 8, 9]\n",
    "rmse_scores = []\n",
    "for s in seeds:\n",
    "    df_train, df_val = split_seed(s)\n",
    "    y_train = df_train.fuel_efficiency_mpg.values\n",
    "    y_val = df_val.fuel_efficiency_mpg.values\n",
    "    y_pred = label_pred(df_train, df_val, 0)\n",
    "    rmse_scores.append(rmse(y_val, y_pred))\n",
    "    \n",
    "std_rmse = np.std(rmse_scores)\n",
    "std_rmse = round(std_rmse, 3)\n",
    "\n",
    "print(\"Standard deviation of RMSE:\", std_rmse)\n"
   ]
  },
  {
   "cell_type": "code",
   "execution_count": 9,
   "id": "a7449cbd-d097-4ab9-8bb8-1a93c1c99084",
   "metadata": {},
   "outputs": [
    {
     "data": {
      "text/plain": [
       "np.float64(0.5156261299167999)"
      ]
     },
     "execution_count": 9,
     "metadata": {},
     "output_type": "execute_result"
    }
   ],
   "source": [
    "np.random.seed(9)\n",
    "n = len(df)\n",
    "n_test = int(0.2 * n)\n",
    "n_train = n - n_test\n",
    "idx = np.arange(n)\n",
    "np.random.shuffle(idx)\n",
    "df_shuffled = df.iloc[idx]\n",
    "\n",
    "df_train = df_shuffled.iloc[:n_train].copy()\n",
    "df_test = df_shuffled.iloc[n_train:].copy()\n",
    "\n",
    "y_train = df_train.fuel_efficiency_mpg.values\n",
    "y_test = df_test.fuel_efficiency_mpg.values\n",
    "\n",
    "X_train_0 = filled_hp(df_train[base], 0)\n",
    "X_test_0 = filled_hp(df_test[base], 0)\n",
    "\n",
    "w0, w = train_linear_regression_reg(X_train_0.values, y_train, 0.001)\n",
    "y_p = w0 + X_test_0.values.dot(w)\n",
    "rmse(y_test, y_p)"
   ]
  },
  {
   "cell_type": "code",
   "execution_count": null,
   "id": "430d76e4-c73f-404f-96ac-95d726c8464a",
   "metadata": {},
   "outputs": [],
   "source": []
  }
 ],
 "metadata": {
  "kernelspec": {
   "display_name": "Python 3 (ipykernel)",
   "language": "python",
   "name": "python3"
  },
  "language_info": {
   "codemirror_mode": {
    "name": "ipython",
    "version": 3
   },
   "file_extension": ".py",
   "mimetype": "text/x-python",
   "name": "python",
   "nbconvert_exporter": "python",
   "pygments_lexer": "ipython3",
   "version": "3.12.1"
  }
 },
 "nbformat": 4,
 "nbformat_minor": 5
}
