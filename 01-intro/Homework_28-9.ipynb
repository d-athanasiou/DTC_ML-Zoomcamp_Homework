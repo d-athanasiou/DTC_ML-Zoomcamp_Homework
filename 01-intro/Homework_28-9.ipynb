{
 "cells": [
  {
   "cell_type": "code",
   "execution_count": 1,
   "id": "16578072-5e71-4b5e-93ad-0342434f50f8",
   "metadata": {},
   "outputs": [],
   "source": [
    "import pandas as pd\n",
    "import numpy as np"
   ]
  },
  {
   "cell_type": "code",
   "execution_count": 2,
   "id": "e73fb9b3-da5d-4a46-917f-f706d391f4ef",
   "metadata": {},
   "outputs": [
    {
     "data": {
      "text/plain": [
       "'2.3.1'"
      ]
     },
     "execution_count": 2,
     "metadata": {},
     "output_type": "execute_result"
    }
   ],
   "source": [
    "pd.__version__"
   ]
  },
  {
   "cell_type": "code",
   "execution_count": 3,
   "id": "ddad8201-74fe-41e7-a849-22e4dee33545",
   "metadata": {},
   "outputs": [
    {
     "data": {
      "text/plain": [
       "9704"
      ]
     },
     "execution_count": 3,
     "metadata": {},
     "output_type": "execute_result"
    }
   ],
   "source": [
    "df = pd.read_csv('https://raw.githubusercontent.com/alexeygrigorev/datasets/master/car_fuel_efficiency.csv')\n",
    "len(df)"
   ]
  },
  {
   "cell_type": "code",
   "execution_count": 4,
   "id": "378ebb0b-f71a-47cb-af2b-e715d697b216",
   "metadata": {},
   "outputs": [
    {
     "data": {
      "text/plain": [
       "2"
      ]
     },
     "execution_count": 4,
     "metadata": {},
     "output_type": "execute_result"
    }
   ],
   "source": [
    "un_ft = df['fuel_type'].unique().tolist()\n",
    "len(un_ft)"
   ]
  },
  {
   "cell_type": "code",
   "execution_count": 5,
   "id": "887c1817-8476-4c9d-ae00-2cb8aea0d306",
   "metadata": {},
   "outputs": [
    {
     "data": {
      "text/plain": [
       "4"
      ]
     },
     "execution_count": 5,
     "metadata": {},
     "output_type": "execute_result"
    }
   ],
   "source": [
    "cols_with_na = df.isna().any()\n",
    "cols_with_na_list = cols_with_na[cols_with_na].index.tolist()\n",
    "len(cols_with_na_list)"
   ]
  },
  {
   "cell_type": "code",
   "execution_count": 6,
   "id": "a939a1a0-2a8f-490b-9862-a6590e16ae2c",
   "metadata": {},
   "outputs": [
    {
     "name": "stdout",
     "output_type": "stream",
     "text": [
      "23.759122836520497\n"
     ]
    }
   ],
   "source": [
    "m = df[df['origin']=='Asia']['fuel_efficiency_mpg'].max()\n",
    "print(m)"
   ]
  },
  {
   "cell_type": "code",
   "execution_count": 7,
   "id": "e7b577ae-a264-44fd-b446-c7c6199d768c",
   "metadata": {},
   "outputs": [
    {
     "name": "stdout",
     "output_type": "stream",
     "text": [
      "True\n"
     ]
    }
   ],
   "source": [
    "median_pre = df['horsepower'].median()\n",
    "most_frequent_hp = df['horsepower'].mode()[0]\n",
    "df['horsepower'] = df['horsepower'].fillna(most_frequent_hp)\n",
    "median_post = df['horsepower'].median()\n",
    "print(median_post > median_pre)"
   ]
  },
  {
   "cell_type": "code",
   "execution_count": 8,
   "id": "6d9ae2cb-48ff-401d-b155-0cf040df33d6",
   "metadata": {},
   "outputs": [
    {
     "name": "stdout",
     "output_type": "stream",
     "text": [
      "0.5187709081074016\n"
     ]
    }
   ],
   "source": [
    "df_asia = df[df['origin'] == 'Asia']\n",
    "df_asia_subset = df_asia[['vehicle_weight', 'model_year']]\n",
    "df_asia_subset = df_asia_subset.head(7)\n",
    "X = df_asia_subset.to_numpy()\n",
    "\n",
    "XTX = X.T @ X \n",
    "XTX_inv = np.linalg.inv(XTX)\n",
    "\n",
    "y = np.array([1100, 1300, 800, 900, 1000, 1100, 1200])\n",
    "w = XTX_inv @ X.T @ y\n",
    "result_sum = w.sum()\n",
    "\n",
    "print(result_sum)"
   ]
  },
  {
   "cell_type": "code",
   "execution_count": null,
   "id": "67bc83f6-fb17-4217-aa91-a6e3e9427899",
   "metadata": {},
   "outputs": [],
   "source": []
  }
 ],
 "metadata": {
  "kernelspec": {
   "display_name": "Python 3 (ipykernel)",
   "language": "python",
   "name": "python3"
  },
  "language_info": {
   "codemirror_mode": {
    "name": "ipython",
    "version": 3
   },
   "file_extension": ".py",
   "mimetype": "text/x-python",
   "name": "python",
   "nbconvert_exporter": "python",
   "pygments_lexer": "ipython3",
   "version": "3.12.1"
  }
 },
 "nbformat": 4,
 "nbformat_minor": 5
}
